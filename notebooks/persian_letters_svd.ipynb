{
 "cells": [
  {
   "cell_type": "markdown",
   "id": "37de107e-3aa7-48c1-b83f-a097f8c1e5e2",
   "metadata": {},
   "source": [
    "# Técnicas de Regressão em Letras Persas"
   ]
  },
  {
   "cell_type": "markdown",
   "id": "dc584d65-c99e-450f-ae89-daf9fd2c2e0a",
   "metadata": {},
   "source": [
    "## Pré-processamento"
   ]
  },
  {
   "cell_type": "code",
   "execution_count": 1,
   "id": "af4135fb-20d9-4ecf-8fb6-06ab76ab525a",
   "metadata": {},
   "outputs": [
    {
     "name": "stdout",
     "output_type": "stream",
     "text": [
      "Requirement already satisfied: opencv-python in /opt/conda/lib/python3.11/site-packages (4.10.0.82)\n",
      "Requirement already satisfied: numpy in /opt/conda/lib/python3.11/site-packages (1.26.4)\n",
      "Requirement already satisfied: matplotlib in /opt/conda/lib/python3.11/site-packages (3.8.3)\n",
      "Requirement already satisfied: scikit-learn in /opt/conda/lib/python3.11/site-packages (1.4.1.post1)\n",
      "Requirement already satisfied: contourpy>=1.0.1 in /opt/conda/lib/python3.11/site-packages (from matplotlib) (1.2.0)\n",
      "Requirement already satisfied: cycler>=0.10 in /opt/conda/lib/python3.11/site-packages (from matplotlib) (0.12.1)\n",
      "Requirement already satisfied: fonttools>=4.22.0 in /opt/conda/lib/python3.11/site-packages (from matplotlib) (4.50.0)\n",
      "Requirement already satisfied: kiwisolver>=1.3.1 in /opt/conda/lib/python3.11/site-packages (from matplotlib) (1.4.5)\n",
      "Requirement already satisfied: packaging>=20.0 in /opt/conda/lib/python3.11/site-packages (from matplotlib) (24.0)\n",
      "Requirement already satisfied: pillow>=8 in /opt/conda/lib/python3.11/site-packages (from matplotlib) (10.2.0)\n",
      "Requirement already satisfied: pyparsing>=2.3.1 in /opt/conda/lib/python3.11/site-packages (from matplotlib) (3.1.2)\n",
      "Requirement already satisfied: python-dateutil>=2.7 in /opt/conda/lib/python3.11/site-packages (from matplotlib) (2.9.0)\n",
      "Requirement already satisfied: scipy>=1.6.0 in /opt/conda/lib/python3.11/site-packages (from scikit-learn) (1.12.0)\n",
      "Requirement already satisfied: joblib>=1.2.0 in /opt/conda/lib/python3.11/site-packages (from scikit-learn) (1.3.2)\n",
      "Requirement already satisfied: threadpoolctl>=2.0.0 in /opt/conda/lib/python3.11/site-packages (from scikit-learn) (3.4.0)\n",
      "Requirement already satisfied: six>=1.5 in /opt/conda/lib/python3.11/site-packages (from python-dateutil>=2.7->matplotlib) (1.16.0)\n"
     ]
    }
   ],
   "source": [
    "# Instalação de dependências.\n",
    "!pip install opencv-python numpy matplotlib scikit-learn\n",
    "\n",
    "import os, random, sys, time\n",
    "import numpy as np\n",
    "import matplotlib.pyplot as plt\n",
    "import cv2\n",
    "from sklearn.model_selection import train_test_split"
   ]
  },
  {
   "cell_type": "markdown",
   "id": "5aa3b97e-0cd9-42a6-b593-4247661cfeb9",
   "metadata": {},
   "source": [
    "O código abaixo percorre um diretório e seus subdiretórios em busca de arquivos com extensão '.jpg'. Para cada arquivo encontrado, ele extrai a classe da imagem a partir do nome do diretório onde está localizado o arquivo e adiciona essa classe a uma lista enquanto armazena o caminho completo do arquivo em outra lista."
   ]
  },
  {
   "cell_type": "code",
   "execution_count": 2,
   "id": "2dc91498-bd0a-4504-876f-166b7914c5ee",
   "metadata": {},
   "outputs": [],
   "source": [
    "directory = '../datasets/plf50'\n",
    "images, classes = [], []\n",
    "\n",
    "for root, dirs, files in os.walk(directory):\n",
    "    for filename in files:\n",
    "        if filename.endswith('.jpg'):\n",
    "            file_path = os.path.join(root, filename)\n",
    "\n",
    "            # Ler a classe da imagem retirando informação do nome do arquivo.\n",
    "            splitted_string = file_path.split('/')\n",
    "            image_class = splitted_string[-2]\n",
    "            classes.append(image_class)\n",
    "\n",
    "            images.append(file_path)"
   ]
  },
  {
   "cell_type": "markdown",
   "id": "b64613ed-6573-4cdb-830b-a3063ba77aa0",
   "metadata": {},
   "source": [
    "Funções fornecidas no exemplo."
   ]
  },
  {
   "cell_type": "code",
   "execution_count": 3,
   "id": "0c9c2cbc-2066-49c6-a19e-bd86125d2af4",
   "metadata": {},
   "outputs": [],
   "source": [
    "def save_img(path, img):\n",
    "    files = path.split(\"\\\\\")\n",
    "    os.makedirs(files[0]+\"2\\\\\"+files[1], exist_ok=True) #cria as pastas onde a imagem cópia ficará\n",
    "    cv2.imwrite(files[0]+\"2\\\\\"+files[1]+\"\\\\\"+files[2], 255*img, [cv2.IMWRITE_JPEG_QUALITY, 100]) #escreve a imagem no diretorio da\n",
    "                                                                                                 #sua classe com qualidade jpeg 100\n",
    "    return                                                                                       #e escala de 0 a 255\n",
    "\n",
    "def read_img_to_gray_scale(path, size_x=16, size_y=16): #lê a imagem na escala cinza, a redimensiona e normaliza os valores para [0, 1]\n",
    "    return cv2.resize(cv2.imread(path, 0)/255.0, (size_x, size_y))\n",
    "\n",
    "def read_img_to_gray_scale_vector(path, size_x=16, size_y=16): #identico a readImgToGrayScale, mas transforma o resultado em vetor unidimensional\n",
    "    return cv2.resize(cv2.imread(path, 0)/255.0, (size_x, size_y)).flatten()\n",
    "\n",
    "def gray_scale_vector_to_img(vector, size_x=16, size_y=16): #retorna um vetor unidimensional para forma de matriz original (size_x, size_y)\n",
    "    return np.reshape(vector, (size_x, size_y))\n",
    "\n",
    "def plot_img(img): #visualiza a imagem\n",
    "    plt.imshow(img, cmap=\"gray\")\n",
    "    plt.show()\n",
    "    return"
   ]
  },
  {
   "cell_type": "markdown",
   "id": "2da426a1-25c0-455f-a251-e1bee4753be8",
   "metadata": {},
   "source": [
    "O código a seguir cria uma lista `x` contendo vetores unidimensionais representando as imagens após processamento para escala de cinza. Em seguida, as classes das imagens são armazenadas em uma lista `y`. Posteriormente, ele divide os dados em conjuntos de treinamento (`x_train`, `y_train`) e teste (`x_test`, `y_test`) usando a função `train_test_split` da biblioteca `scikit-learn`, com 30% dos dados destinados ao conjunto de teste."
   ]
  },
  {
   "cell_type": "code",
   "execution_count": 4,
   "id": "7ce6dbe2-2d1b-4ad1-83a6-3976ca9f8b67",
   "metadata": {},
   "outputs": [],
   "source": [
    "x = []\n",
    "\n",
    "# Juntar todos os vetores unidimensionais das imagens na lista X.\n",
    "for image in images:\n",
    "    x.append(read_img_to_gray_scale_vector(image))\n",
    "\n",
    "# As classes das imagens, mas em uma lista com nome Y.\n",
    "y = classes\n",
    "\n",
    "x_train, x_test, y_train, y_test = train_test_split(x, y, test_size=0.3, random_state=42, shuffle=True)"
   ]
  },
  {
   "cell_type": "markdown",
   "id": "2f7c89cb-e413-4524-9542-ae4c2725ec2f",
   "metadata": {},
   "source": [
    "A distância euclidiana entre dois vetores no mesmo espaço vetorial é definida por:\n",
    "\n",
    "$$ D(\\mathbf{p}, \\mathbf{q}) = \\sqrt{\\sum_{i=1}^{n} (p_i - q_i)^2} $$\n"
   ]
  },
  {
   "cell_type": "code",
   "execution_count": 5,
   "id": "17aa3364-201d-41ab-a969-b96804e23dea",
   "metadata": {},
   "outputs": [],
   "source": [
    "# Função implementada seguindo a definição descrita em:\n",
    "# https://en.wikipedia.org/wiki/Euclidean_distance\n",
    "def euclidean_distance(p, q):\n",
    "    return np.sqrt(np.sum((np.array(p) - np.array(q)) ** 2))"
   ]
  },
  {
   "cell_type": "markdown",
   "id": "1ad2f877-9383-4c29-9854-82436c6c3759",
   "metadata": {},
   "source": [
    "Definir função do algoritmo K-Nearest Neighbor (KNN) para K=1."
   ]
  },
  {
   "cell_type": "code",
   "execution_count": 6,
   "id": "93104ffa-66bf-421e-bbc2-bdb77ad01c9f",
   "metadata": {},
   "outputs": [],
   "source": [
    "# Função implementada seguindo a definição descrita em:\n",
    "# https://www.ibm.com/topics/knn#:~:text=The%20k%2Dnearest%20neighbors%20(KNN)%20algorithm%20is%20a%20non,used%20in%20machine%20learning%20today.\n",
    "def knn(x_train, y_train, test_data, distance_function):\n",
    "    min_distance = float('inf')\n",
    "    nearest_neighbor_class = None\n",
    "\n",
    "    for index, x in enumerate(x_train):\n",
    "        distance = distance_function(test_data, x)\n",
    "        if distance < min_distance:\n",
    "            min_distance = distance\n",
    "            nearest_neighbor_class = y_train[index]\n",
    "\n",
    "    return nearest_neighbor_class"
   ]
  },
  {
   "cell_type": "markdown",
   "id": "4ca72c44-6fb1-48c9-8452-61841765819a",
   "metadata": {},
   "source": [
    "## Aplicação de Técnicas"
   ]
  },
  {
   "cell_type": "markdown",
   "id": "992c8b02-b2f1-4437-92f0-69fa3dad9993",
   "metadata": {},
   "source": [
    "No bloco de código abaixo, é realizada a centralização dos dados de treinamento e teste utilizando o vetor de média que também será extraído."
   ]
  },
  {
   "cell_type": "code",
   "execution_count": 7,
   "id": "ab11e04f-ad33-40f9-b66e-a25a21b74b1b",
   "metadata": {},
   "outputs": [],
   "source": [
    "# Calcular vetor de média.\n",
    "mean_vector = np.mean(x_train, axis=0)\n",
    "\n",
    "# Centralizar dados de treinamento.\n",
    "x_train_center = x_train - mean_vector\n",
    "\n",
    "# Centralizar dados de teste. Repare que é utilizado o vetor de média de treinamento.\n",
    "x_test_center = x_test - mean_vector"
   ]
  },
  {
   "cell_type": "markdown",
   "id": "8e7f4d5a-4c09-4ff0-ac5a-980f21af5b10",
   "metadata": {},
   "source": [
    "Abaixo será calculada a decomposição SVD da matriz de dados de treinamento `x_train_center`. A função `np.linealg.svd` retornar 3 matrizes:\n",
    "- `U` é uma matriz unitária (n_samples, n_samples).\n",
    "- `S` é um vetor com os valores singulares (n_samples,).\n",
    "- `Vt` é a matriz unitária transposta (n_features, n_features)."
   ]
  },
  {
   "cell_type": "code",
   "execution_count": 8,
   "id": "8e8c4dd5-9c1a-446f-8b0d-32f18b1006e7",
   "metadata": {},
   "outputs": [],
   "source": [
    "U, S, Vt = np.linalg.svd(x_train_center, full_matrices=False)\n",
    "\n",
    "S_diagonal = np.diag(S)"
   ]
  },
  {
   "cell_type": "markdown",
   "id": "01bb907b-92ff-4583-9dbc-933ca9faf2e6",
   "metadata": {},
   "source": [
    "Apresentar gráfico número de valores singulares x variabilidade acumulada."
   ]
  },
  {
   "cell_type": "code",
   "execution_count": 9,
   "id": "5ad519df-7f3f-43fb-841f-0bd4b095bacf",
   "metadata": {},
   "outputs": [],
   "source": [
    "# Calcular variabilidade para cada valor singular.\n",
    "explained_variability = (S**2) / np.sum(S**2)\n",
    "\n",
    "# Calcular variabilidade acumulada.\n",
    "cumulative_variability = np.cumsum(explained_variability)"
   ]
  },
  {
   "cell_type": "code",
   "execution_count": 10,
   "id": "342cd070-cf54-439e-9ce7-a255cba4cab4",
   "metadata": {},
   "outputs": [
    {
     "data": {
      "image/png": "[encoded data removed]",
      "text/plain": [
       "<Figure size 1000x600 with 1 Axes>"
      ]
     },
     "metadata": {},
     "output_type": "display_data"
    }
   ],
   "source": [
    "plt.figure(figsize=(10, 6))\n",
    "plt.plot(cumulative_variability, marker='o')\n",
    "plt.xlabel('Número de Valores Singulares')\n",
    "plt.ylabel('Variabilidade Acumulada')\n",
    "plt.title('Variabilidade Acumulada por Número de Valores Singulares')\n",
    "plt.grid(True)\n",
    "plt.show()"
   ]
  },
  {
   "cell_type": "code",
   "execution_count": 11,
   "id": "bd73e838-3c85-4c09-90cd-46cfef6a56bb",
   "metadata": {},
   "outputs": [
    {
     "name": "stdout",
     "output_type": "stream",
     "text": [
      "Número de componentes principais para 95.0% de variabilidade: 98\n",
      "Matrizes de componentes principais calculadas.\n",
      "p_train.shape: (403, 98)\n",
      "p_test.shape: (173, 98)\n"
     ]
    }
   ],
   "source": [
    "# Escolher a variabilidade desejada.\n",
    "desired_variability = 0.95\n",
    "\n",
    "# Encontrar o número de componentes principais r que explicam a variabilidade desejada.\n",
    "r = np.argmax(cumulative_variability >= desired_variability) + 1\n",
    "\n",
    "print(f\"Número de componentes principais para {desired_variability*100}% de variabilidade: {r}\")\n",
    "\n",
    "# Selecionar os r primeiros componentes de Vt (primeiras r linhas de Vt).\n",
    "Vt_reduced = Vt[:r, :]\n",
    "\n",
    "p_train = x_train_center @ Vt_reduced.T\n",
    "p_test = x_test_center @ Vt_reduced.T\n",
    "\n",
    "print(\"Matrizes de componentes principais calculadas.\")\n",
    "print(\"p_train.shape:\", p_train.shape)\n",
    "print(\"p_test.shape:\", p_test.shape)"
   ]
  },
  {
   "cell_type": "markdown",
   "id": "4bc71af7-3707-4b0c-bb54-e827c3d32ff2",
   "metadata": {},
   "source": [
    "## Realizar Predição"
   ]
  },
  {
   "cell_type": "code",
   "execution_count": 13,
   "id": "7b00e503-6416-40de-ac9c-1cbe05eae020",
   "metadata": {},
   "outputs": [
    {
     "name": "stdout",
     "output_type": "stream",
     "text": [
      "tempo médio de execução:  0.00145 segundos\n",
      "acurácia dos testes:  0.82\n"
     ]
    }
   ],
   "source": [
    "# Iterar entre os elementos do conjunto de teste (x_test) e executar o algoritmo.\n",
    "avg_time, accuracy = 0, 0\n",
    "\n",
    "for index, p in enumerate(p_test):\n",
    "    start = time.time() # Iniciar cronômetro.\n",
    "    result = knn(p_train, y_train, p, euclidean_distance) # Realizar teste e extrair resultado.\n",
    "    end = time.time() # Parar cronômetro.\n",
    "\n",
    "    total_time = end - start # Medir tempo decorrido.\n",
    "    avg_time += total_time # Armazenar tempo decorrido na variável de tempo médio.\n",
    "    \n",
    "    # Testar acurácia do teste.\n",
    "    if result == y_test[index]:\n",
    "        accuracy += 1\n",
    "\n",
    "print('tempo médio de execução: ', round(avg_time / len(p_test), 5), 'segundos')\n",
    "print('acurácia dos testes: ', round(accuracy / len(p_test), 2))"
   ]
  },
  {
   "cell_type": "code",
   "execution_count": 14,
   "id": "f225fc74-0dea-4fcf-a54c-fbacfdcf4c49",
   "metadata": {},
   "outputs": [
    {
     "name": "stdout",
     "output_type": "stream",
     "text": [
      "98\n"
     ]
    }
   ],
   "source": [
    "print(r)"
   ]
  }
 ],
 "metadata": {
  "kernelspec": {
   "display_name": "Python 3 (ipykernel)",
   "language": "python",
   "name": "python3"
  },
  "language_info": {
   "codemirror_mode": {
    "name": "ipython",
    "version": 3
   },
   "file_extension": ".py",
   "mimetype": "text/x-python",
   "name": "python",
   "nbconvert_exporter": "python",
   "pygments_lexer": "ipython3",
   "version": "3.11.8"
  }
 },
 "nbformat": 4,
 "nbformat_minor": 5
}
