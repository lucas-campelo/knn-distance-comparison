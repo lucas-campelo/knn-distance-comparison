{
 "cells": [
  {
   "cell_type": "markdown",
   "id": "6356255d-9814-4865-b2c0-ce548332af14",
   "metadata": {},
   "source": [
    "# Comparação de Distâncias no Algoritmo KNN"
   ]
  },
  {
   "cell_type": "markdown",
   "id": "2633cd9a-833e-4548-995d-ad16ab91b865",
   "metadata": {},
   "source": [
    "Alunos: Vinícius de Sousa Paula e Lucas Campelo Santiago."
   ]
  },
  {
   "cell_type": "markdown",
   "id": "4036517f-c3f8-436f-b17c-094526972362",
   "metadata": {},
   "source": [
    "Este estudo tem como objetivo demonstrar a aplicação do algoritmo KNN (K-Nearest Neighbors) no processo de classificação de dados. Serão explorados dois métodos de cálculo de distância entre vetores: a distância euclidiana e a distância de Canberra. O propósito é analisar qual abordagem de distância resulta em melhor desempenho computacional e maior precisão na classificação."
   ]
  },
  {
   "cell_type": "code",
   "execution_count": 2,
   "id": "44b7d6dd-ddda-436e-a096-783b32195d88",
   "metadata": {
    "scrolled": true
   },
   "outputs": [
    {
     "name": "stdout",
     "output_type": "stream",
     "text": [
      "Collecting opencv-python\n",
      "  Using cached opencv_python-4.9.0.80-cp37-abi3-manylinux_2_17_aarch64.manylinux2014_aarch64.whl.metadata (20 kB)\n",
      "Requirement already satisfied: numpy in /opt/conda/lib/python3.11/site-packages (1.26.4)\n",
      "Requirement already satisfied: matplotlib in /opt/conda/lib/python3.11/site-packages (3.8.3)\n",
      "Requirement already satisfied: scikit-learn in /opt/conda/lib/python3.11/site-packages (1.4.1.post1)\n",
      "Requirement already satisfied: contourpy>=1.0.1 in /opt/conda/lib/python3.11/site-packages (from matplotlib) (1.2.0)\n",
      "Requirement already satisfied: cycler>=0.10 in /opt/conda/lib/python3.11/site-packages (from matplotlib) (0.12.1)\n",
      "Requirement already satisfied: fonttools>=4.22.0 in /opt/conda/lib/python3.11/site-packages (from matplotlib) (4.50.0)\n",
      "Requirement already satisfied: kiwisolver>=1.3.1 in /opt/conda/lib/python3.11/site-packages (from matplotlib) (1.4.5)\n",
      "Requirement already satisfied: packaging>=20.0 in /opt/conda/lib/python3.11/site-packages (from matplotlib) (24.0)\n",
      "Requirement already satisfied: pillow>=8 in /opt/conda/lib/python3.11/site-packages (from matplotlib) (10.2.0)\n",
      "Requirement already satisfied: pyparsing>=2.3.1 in /opt/conda/lib/python3.11/site-packages (from matplotlib) (3.1.2)\n",
      "Requirement already satisfied: python-dateutil>=2.7 in /opt/conda/lib/python3.11/site-packages (from matplotlib) (2.9.0)\n",
      "Requirement already satisfied: scipy>=1.6.0 in /opt/conda/lib/python3.11/site-packages (from scikit-learn) (1.12.0)\n",
      "Requirement already satisfied: joblib>=1.2.0 in /opt/conda/lib/python3.11/site-packages (from scikit-learn) (1.3.2)\n",
      "Requirement already satisfied: threadpoolctl>=2.0.0 in /opt/conda/lib/python3.11/site-packages (from scikit-learn) (3.4.0)\n",
      "Requirement already satisfied: six>=1.5 in /opt/conda/lib/python3.11/site-packages (from python-dateutil>=2.7->matplotlib) (1.16.0)\n",
      "Downloading opencv_python-4.9.0.80-cp37-abi3-manylinux_2_17_aarch64.manylinux2014_aarch64.whl (41.3 MB)\n",
      "\u001b[2K   \u001b[90m━━━━━━━━━━━━━━━━━━━━━━━━━━━━━━━━━━━━━━━━\u001b[0m \u001b[32m41.3/41.3 MB\u001b[0m \u001b[31m20.0 MB/s\u001b[0m eta \u001b[36m0:00:00\u001b[0m00:01\u001b[0m00:01\u001b[0m\n",
      "\u001b[?25hInstalling collected packages: opencv-python\n",
      "Successfully installed opencv-python-4.9.0.80\n"
     ]
    }
   ],
   "source": [
    "# Instalação de dependências.\n",
    "!pip install opencv-python numpy matplotlib scikit-learn\n",
    "\n",
    "import os, random, sys, time\n",
    "import numpy as np\n",
    "import matplotlib.pyplot as plt\n",
    "import cv2\n",
    "from sklearn.model_selection import train_test_split"
   ]
  },
  {
   "cell_type": "markdown",
   "id": "f53f2908-dbec-4ddd-b586-311dae3f84a0",
   "metadata": {},
   "source": [
    "O código abaixo percorre um diretório e seus subdiretórios em busca de arquivos com extensão '.jpg'. Para cada arquivo encontrado, ele extrai a classe da imagem a partir do nome do diretório onde está localizado o arquivo e adiciona essa classe a uma lista enquanto armazena o caminho completo do arquivo em outra lista."
   ]
  },
  {
   "cell_type": "code",
   "execution_count": null,
   "id": "535a7aa7-a510-4e3f-9eff-b7577da9e2c1",
   "metadata": {},
   "outputs": [],
   "source": [
    "directory = '../datasets/plf50'\n",
    "images, classes = [], []\n",
    "\n",
    "for root, dirs, files in os.walk(directory):\n",
    "    for filename in files:\n",
    "        if filename.endswith('.jpg'):\n",
    "            file_path = os.path.join(root, filename)\n",
    "\n",
    "            # Ler a classe da imagem retirando informação do nome do arquivo.\n",
    "            splitted_string = file_path.split('/')\n",
    "            image_class = splitted_string[-2]\n",
    "            classes.append(image_class)\n",
    "\n",
    "            images.append(file_path)"
   ]
  },
  {
   "cell_type": "markdown",
   "id": "dbb40ae2-238b-4108-96d5-945b639a5d5a",
   "metadata": {},
   "source": [
    "Funções fornecidas no exemplo."
   ]
  },
  {
   "cell_type": "code",
   "execution_count": null,
   "id": "1d4162e0-7b86-420c-88f9-1deb8147f0d9",
   "metadata": {},
   "outputs": [],
   "source": [
    "def save_img(path, img):\n",
    "    files = path.split(\"\\\\\")\n",
    "    os.makedirs(files[0]+\"2\\\\\"+files[1], exist_ok=True) #cria as pastas onde a imagem cópia ficará\n",
    "    cv2.imwrite(files[0]+\"2\\\\\"+files[1]+\"\\\\\"+files[2], 255*img, [cv2.IMWRITE_JPEG_QUALITY, 100]) #escreve a imagem no diretorio da\n",
    "                                                                                                 #sua classe com qualidade jpeg 100\n",
    "    return                                                                                       #e escala de 0 a 255\n",
    "\n",
    "def read_img_to_gray_scale(path, size_x=16, size_y=16): #lê a imagem na escala cinza, a redimensiona e normaliza os valores para [0, 1]\n",
    "    return cv2.resize(cv2.imread(path, 0)/255.0, (size_x, size_y))\n",
    "\n",
    "def read_img_to_gray_scale_vector(path, size_x=16, size_y=16): #identico a readImgToGrayScale, mas transforma o resultado em vetor unidimensional\n",
    "    return cv2.resize(cv2.imread(path, 0)/255.0, (size_x, size_y)).flatten()\n",
    "\n",
    "def gray_scale_vector_to_img(vector, size_x=16, size_y=16): #retorna um vetor unidimensional para forma de matriz original (size_x, size_y)\n",
    "    return np.reshape(vector, (size_x, size_y))\n",
    "\n",
    "def plot_img(img): #visualiza a imagem\n",
    "    plt.imshow(img, cmap=\"gray\")\n",
    "    plt.show()\n",
    "    return"
   ]
  },
  {
   "cell_type": "markdown",
   "id": "d4b64923-2558-46fa-81e3-74ccd0004464",
   "metadata": {},
   "source": [
    "No código abaixo calculamos o número total de imagens e o número necessário de linhas de subplots para a grade de 10 imagens por linha. Em seguida, criamos uma figura e uma grade de subplots usando `plt.subplots()`. Iteramos sobre cada posição na grade de subplots e plotamos as imagens correspondentes. Se houver menos de 10 imagens em uma linha, os subplots vazios serão desativados."
   ]
  },
  {
   "cell_type": "code",
   "execution_count": null,
   "id": "95f62164-969b-4d09-a16c-dd39ec12b1b4",
   "metadata": {
    "scrolled": true
   },
   "outputs": [],
   "source": [
    "plot_images = []\n",
    "\n",
    "for image in images:\n",
    "    plot_images.append(plt.imread(image))\n",
    "    \n",
    "num_images = len(plot_images)\n",
    "num_rows = (num_images + 9) // 10  # Arredonda para cima a divisão de num_images por 10\n",
    "\n",
    "fig, axs = plt.subplots(num_rows, 10, figsize=(20, 5*num_rows))\n",
    "\n",
    "for i in range(num_rows):\n",
    "    for j in range(10):\n",
    "        index = i * 10 + j\n",
    "        if index < num_images:\n",
    "            axs[i, j].imshow(plot_images[index])\n",
    "            axs[i, j].axis('off')  # Desativa os eixos\n",
    "            axs[i, j].set_title(f'Imagem {index + 1}')  # Define o título para cada imagem\n",
    "        else:\n",
    "            axs[i, j].axis('off')  # Desativa os eixos para subplots vazios\n",
    "\n",
    "plt.tight_layout()  # Ajusta automaticamente o layout para evitar sobreposições\n",
    "plt.show()"
   ]
  },
  {
   "cell_type": "markdown",
   "id": "52b727c7-cc45-4beb-9ec6-83846499bb69",
   "metadata": {},
   "source": [
    "O código a seguir cria uma lista `x` contendo vetores unidimensionais representando as imagens após processamento para escala de cinza. Em seguida, as classes das imagens são armazenadas em uma lista `y`. Posteriormente, ele divide os dados em conjuntos de treinamento (`x_train`, `y_train`) e teste (`x_test`, `y_test`) usando a função `train_test_split` da biblioteca `scikit-learn`, com 30% dos dados destinados ao conjunto de teste."
   ]
  },
  {
   "cell_type": "code",
   "execution_count": null,
   "id": "209ae41f-4bd3-48be-9480-8aa9ec091306",
   "metadata": {},
   "outputs": [],
   "source": [
    "x = []\n",
    "\n",
    "# Juntar todos os vetores unidimensionais das imagens na lista X.\n",
    "for image in images:\n",
    "    x.append(read_img_to_gray_scale_vector(image))\n",
    "\n",
    "# As classes das imagens, mas em uma lista com nome Y.\n",
    "y = classes\n",
    "\n",
    "x_train, x_test, y_train, y_test = train_test_split(x, y, test_size=0.3, random_state=42, shuffle=True)"
   ]
  },
  {
   "cell_type": "markdown",
   "id": "d2ba0086-ac52-45e8-b298-996a9e061629",
   "metadata": {},
   "source": [
    "A distância euclidiana entre dois vetores no mesmo espaço vetorial é definida por:\n",
    "\n",
    "$$ D(\\mathbf{p}, \\mathbf{q}) = \\sqrt{\\sum_{i=1}^{n} (p_i - q_i)^2} $$\n"
   ]
  },
  {
   "cell_type": "code",
   "execution_count": null,
   "id": "079cb4ab-ea12-4f76-b184-3603842cbca9",
   "metadata": {},
   "outputs": [],
   "source": [
    "# Função implementada seguindo a definição descrita em:\n",
    "# https://en.wikipedia.org/wiki/Euclidean_distance\n",
    "def euclidean_distance(p, q):\n",
    "    return np.sqrt(np.sum((np.array(p) - np.array(q)) ** 2))"
   ]
  },
  {
   "cell_type": "markdown",
   "id": "a352b8ce-1e64-4d49-a4a0-71ce08f7aa8f",
   "metadata": {},
   "source": [
    "A distância de Canberra entre dois vetores no mesmo espaço vetorial é definida por:\n",
    "\n",
    "$$ D = \\sum_{i=1}^{n} \\frac{|x_i - y_i|}{|x_i| + |y_i|} $$"
   ]
  },
  {
   "cell_type": "code",
   "execution_count": null,
   "id": "6b2a1ae9-ee40-446d-b427-4db241c90c4f",
   "metadata": {},
   "outputs": [],
   "source": [
    "# Função implementada seguindo a definição fornecida pelo Vinícius:\n",
    "def canberra_distance(x, y):\n",
    "    denominator = np.abs(x) + np.abs(y)\n",
    "    denominator[denominator == 0] = np.nan\n",
    "    return np.nansum(np.abs(x - y) / denominator)"
   ]
  },
  {
   "cell_type": "markdown",
   "id": "88e2059e-3816-469c-be24-8e47d7694a5c",
   "metadata": {},
   "source": [
    "Definir função do algoritmo K-Nearest Neighbor (KNN) para K=1."
   ]
  },
  {
   "cell_type": "code",
   "execution_count": null,
   "id": "ceab3869-5079-473d-8fc8-36fef4f557ad",
   "metadata": {},
   "outputs": [],
   "source": [
    "# Função implementada seguindo a definição descrita em:\n",
    "# https://www.ibm.com/topics/knn#:~:text=The%20k%2Dnearest%20neighbors%20(KNN)%20algorithm%20is%20a%20non,used%20in%20machine%20learning%20today.\n",
    "def knn(x_train, y_train, train_data, distance_function):\n",
    "    min_distance = float('inf')\n",
    "    nearest_neighbor_class = None\n",
    "\n",
    "    for index, x in enumerate(x_train):\n",
    "        distance = distance_function(train_data, x)\n",
    "        if distance < min_distance:\n",
    "            min_distance = distance\n",
    "            nearest_neighbor_class = y_train[index]\n",
    "\n",
    "    return nearest_neighbor_class"
   ]
  },
  {
   "cell_type": "markdown",
   "id": "087f709c-b032-430e-a610-76d313be8a53",
   "metadata": {},
   "source": [
    "A seguir serão executados os testes utilizando o algoritmo KNN com ambas as distâncias propostas (Euclidiana e Canberra)."
   ]
  },
  {
   "cell_type": "markdown",
   "id": "09823c27-c7dc-4143-aa99-db3a453e0b60",
   "metadata": {},
   "source": [
    "Distância Euclidiana:"
   ]
  },
  {
   "cell_type": "code",
   "execution_count": null,
   "id": "182bbd9c-8644-4552-a38e-0ab227415494",
   "metadata": {},
   "outputs": [],
   "source": [
    "# Iterar entre os elementos do conjunto de teste (x_test) e executar o algoritmo.\n",
    "avg_time, accuracy = 0, 0\n",
    "\n",
    "for index, x in enumerate(x_test):\n",
    "    start = time.time() # Iniciar cronômetro.\n",
    "    result = knn(x_train, y_train, x, euclidean_distance) # Realizar teste e extrair resultado.\n",
    "    end = time.time() # Parar cronômetro.\n",
    "\n",
    "    total_time = end - start # Medir tempo decorrido.\n",
    "    avg_time += total_time # Armazenar tempo decorrido na variável de tempo médio.\n",
    "\n",
    "    # Testar acurácia do teste.\n",
    "    if result == y_test[index]:\n",
    "        accuracy += 1\n",
    "\n",
    "print('tempo médio de execução: ', round(avg_time / len(x_test), 5), 'segundos')\n",
    "print('acurácia dos testes: ', round(accuracy / len(x_test), 2))"
   ]
  },
  {
   "cell_type": "markdown",
   "id": "25db87f8-28f3-4a7d-8217-b107a414868c",
   "metadata": {},
   "source": [
    "Distância de Canberra:"
   ]
  },
  {
   "cell_type": "code",
   "execution_count": null,
   "id": "ad67d0ab-1792-4492-94b3-f5977289c3ac",
   "metadata": {},
   "outputs": [],
   "source": [
    "# Iterar entre os elementos do conjunto de teste (x_test) e executar o algoritmo.\n",
    "avg_time, accuracy = 0, 0\n",
    "\n",
    "for index, x in enumerate(x_test):\n",
    "    start = time.time() # Iniciar cronômetro.\n",
    "    result = knn(x_train, y_train, x, canberra_distance) # Realizar teste e extrair resultado.\n",
    "    end = time.time() # Parar cronômetro.\n",
    "\n",
    "    total_time = end - start # Medir tempo decorrido.\n",
    "    avg_time += total_time # Armazenar tempo decorrido na variável de tempo médio.\n",
    "\n",
    "    # Testar acurácia do teste.\n",
    "    if result == y_test[index]:\n",
    "        accuracy += 1\n",
    "\n",
    "print('tempo médio de execução: ', round(avg_time / len(x_test), 5), 'segundos')\n",
    "print('acurácia dos testes: ', round(accuracy / len(x_test), 2))"
   ]
  }
 ],
 "metadata": {
  "kernelspec": {
   "display_name": "Python 3 (ipykernel)",
   "language": "python",
   "name": "python3"
  },
  "language_info": {
   "codemirror_mode": {
    "name": "ipython",
    "version": 3
   },
   "file_extension": ".py",
   "mimetype": "text/x-python",
   "name": "python",
   "nbconvert_exporter": "python",
   "pygments_lexer": "ipython3",
   "version": "3.11.8"
  }
 },
 "nbformat": 4,
 "nbformat_minor": 5
}
