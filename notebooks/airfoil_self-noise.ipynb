{
 "cells": [
  {
   "cell_type": "markdown",
   "id": "416965ff-0e61-4c47-8b2b-477aa19f3bde",
   "metadata": {},
   "source": [
    "# Análise e Modelagem de Dados Aerodinâmicos usando Regressão Linear"
   ]
  },
  {
   "cell_type": "code",
   "execution_count": 1,
   "id": "e358f7b4-d93c-4ea4-826d-dc24a63e7cd6",
   "metadata": {},
   "outputs": [
    {
     "name": "stdout",
     "output_type": "stream",
     "text": [
      "Requirement already satisfied: ucimlrepo in /opt/conda/lib/python3.11/site-packages (0.0.6)\n",
      "Requirement already satisfied: numpy in /opt/conda/lib/python3.11/site-packages (1.26.4)\n"
     ]
    }
   ],
   "source": [
    "!pip install ucimlrepo numpy"
   ]
  },
  {
   "cell_type": "markdown",
   "id": "bfc6754c-e6c8-4a94-926f-d3bac6aa7f35",
   "metadata": {},
   "source": [
    "Este conjunto de dados se refere a um estudo experimental sobre características aerodinâmicas de uma asa, como o ângulo de ataque, o comprimento da corda da asa e a velocidade do fluxo de ar, juntamente com a pressão sonora escalada gerada por essas características. Em termos simples, ele investiga como diferentes aspectos do design de uma asa afetam o nível de ruído produzido. Esses dados podem ser usados para entender melhor a relação entre as características aerodinâmicas e o ruído gerado, o que pode ser útil no projeto de asas mais silenciosas e eficientes."
   ]
  },
  {
   "cell_type": "markdown",
   "id": "27385de6-fb2d-474b-8348-62ab88acc201",
   "metadata": {},
   "source": [
    "Importar dependências."
   ]
  },
  {
   "cell_type": "code",
   "execution_count": 2,
   "id": "693e8e89-feaf-41b8-b7ff-c74011a87b64",
   "metadata": {},
   "outputs": [],
   "source": [
    "import numpy as np\n",
    "import matplotlib.pyplot as plt\n",
    "\n",
    "from ucimlrepo import fetch_ucirepo \n",
    "\n",
    "from sklearn.model_selection import train_test_split\n",
    "from sklearn.preprocessing import MinMaxScaler, StandardScaler\n",
    "from sklearn.metrics import mean_squared_error\n",
    "\n",
    "from scipy.linalg import qr, solve_triangular"
   ]
  },
  {
   "cell_type": "markdown",
   "id": "fde5841c-afc2-403f-a116-bffab118cb4a",
   "metadata": {},
   "source": [
    "Ler base de dados."
   ]
  },
  {
   "cell_type": "code",
   "execution_count": 3,
   "id": "d747f289-392e-4d2a-bb70-6a610ec1855d",
   "metadata": {},
   "outputs": [],
   "source": [
    "airfoil_self_noise = fetch_ucirepo(id=291) \n",
    "  \n",
    "x = airfoil_self_noise.data.features \n",
    "y = airfoil_self_noise.data.targets "
   ]
  },
  {
   "cell_type": "markdown",
   "id": "9e792dd9-1f07-4df0-90f1-78bdfd47bcd1",
   "metadata": {},
   "source": [
    "Armazenar itens do banco de dados em arrays NumPy."
   ]
  },
  {
   "cell_type": "code",
   "execution_count": 4,
   "id": "f83d2067-2390-45ac-bb01-e366a72a1775",
   "metadata": {},
   "outputs": [],
   "source": [
    "x_numpy = np.array(x)\n",
    "y_numpy = np.array(y)"
   ]
  },
  {
   "cell_type": "markdown",
   "id": "1fdc52d3-c8f7-4389-947b-6d1365c2675f",
   "metadata": {},
   "source": [
    "Mostrar os nomes das características do banco de dados."
   ]
  },
  {
   "cell_type": "code",
   "execution_count": 5,
   "id": "98d352fd-711d-4647-b79f-929f600d564a",
   "metadata": {},
   "outputs": [
    {
     "data": {
      "text/html": [
       "<div>\n",
       "<style scoped>\n",
       "    .dataframe tbody tr th:only-of-type {\n",
       "        vertical-align: middle;\n",
       "    }\n",
       "\n",
       "    .dataframe tbody tr th {\n",
       "        vertical-align: top;\n",
       "    }\n",
       "\n",
       "    .dataframe thead th {\n",
       "        text-align: right;\n",
       "    }\n",
       "</style>\n",
       "<table border=\"1\" class=\"dataframe\">\n",
       "  <thead>\n",
       "    <tr style=\"text-align: right;\">\n",
       "      <th></th>\n",
       "      <th>name</th>\n",
       "      <th>role</th>\n",
       "      <th>type</th>\n",
       "      <th>demographic</th>\n",
       "      <th>description</th>\n",
       "      <th>units</th>\n",
       "      <th>missing_values</th>\n",
       "    </tr>\n",
       "  </thead>\n",
       "  <tbody>\n",
       "    <tr>\n",
       "      <th>0</th>\n",
       "      <td>frequency</td>\n",
       "      <td>Feature</td>\n",
       "      <td>Integer</td>\n",
       "      <td>None</td>\n",
       "      <td>None</td>\n",
       "      <td>Hz</td>\n",
       "      <td>no</td>\n",
       "    </tr>\n",
       "    <tr>\n",
       "      <th>1</th>\n",
       "      <td>attack-angle</td>\n",
       "      <td>Feature</td>\n",
       "      <td>Binary</td>\n",
       "      <td>None</td>\n",
       "      <td>None</td>\n",
       "      <td>deg</td>\n",
       "      <td>no</td>\n",
       "    </tr>\n",
       "    <tr>\n",
       "      <th>2</th>\n",
       "      <td>chord-length</td>\n",
       "      <td>Feature</td>\n",
       "      <td>Continuous</td>\n",
       "      <td>None</td>\n",
       "      <td>None</td>\n",
       "      <td>m</td>\n",
       "      <td>no</td>\n",
       "    </tr>\n",
       "    <tr>\n",
       "      <th>3</th>\n",
       "      <td>free-stream-velocity</td>\n",
       "      <td>Feature</td>\n",
       "      <td>Continuous</td>\n",
       "      <td>None</td>\n",
       "      <td>None</td>\n",
       "      <td>m/s</td>\n",
       "      <td>no</td>\n",
       "    </tr>\n",
       "    <tr>\n",
       "      <th>4</th>\n",
       "      <td>suction-side-displacement-thickness</td>\n",
       "      <td>Feature</td>\n",
       "      <td>Continuous</td>\n",
       "      <td>None</td>\n",
       "      <td>None</td>\n",
       "      <td>m</td>\n",
       "      <td>no</td>\n",
       "    </tr>\n",
       "    <tr>\n",
       "      <th>5</th>\n",
       "      <td>scaled-sound-pressure</td>\n",
       "      <td>Target</td>\n",
       "      <td>Continuous</td>\n",
       "      <td>None</td>\n",
       "      <td>None</td>\n",
       "      <td>dB</td>\n",
       "      <td>no</td>\n",
       "    </tr>\n",
       "  </tbody>\n",
       "</table>\n",
       "</div>"
      ],
      "text/plain": [
       "                                  name     role        type demographic  \\\n",
       "0                            frequency  Feature     Integer        None   \n",
       "1                         attack-angle  Feature      Binary        None   \n",
       "2                         chord-length  Feature  Continuous        None   \n",
       "3                 free-stream-velocity  Feature  Continuous        None   \n",
       "4  suction-side-displacement-thickness  Feature  Continuous        None   \n",
       "5                scaled-sound-pressure   Target  Continuous        None   \n",
       "\n",
       "  description units missing_values  \n",
       "0        None    Hz             no  \n",
       "1        None   deg             no  \n",
       "2        None     m             no  \n",
       "3        None   m/s             no  \n",
       "4        None     m             no  \n",
       "5        None    dB             no  "
      ]
     },
     "execution_count": 5,
     "metadata": {},
     "output_type": "execute_result"
    }
   ],
   "source": [
    "airfoil_self_noise.variables"
   ]
  },
  {
   "cell_type": "markdown",
   "id": "e55d3310-32b7-4bda-a2b1-0bc4c59d3c6f",
   "metadata": {},
   "source": [
    "- **Frequency (Frequência)**: refere-se à frequência associada ao experimento ou ao fenômeno aerodinâmico em estudo.\n",
    "- **Attack Angle (Ângulo de Ataque)**: é o ângulo entre a direção do vento incidente e o eixo de referência da asa ou objeto aerodinâmico.\n",
    "- **Chord Length (Comprimento da Corda)**: é o comprimento da linha reta que conecta a borda de ataque à borda de fuga de uma asa, medido ao longo da linha do eixo de referência.\n",
    "- **Free-stream Velocity (Velocidade do Fluxo Livre)**: é a velocidade do ar não perturbado longe do corpo ou objeto aerodinâmico.\n",
    "- **Suction-side Displacement Thickness (Espessura de Deslocamento do Lado de Sucção)**: é a espessura da camada limite do lado de sucção da asa, medida perpendicularmente à superfície da asa."
   ]
  },
  {
   "cell_type": "markdown",
   "id": "44b184d4-30cc-4bd6-bbe7-aa03b2e2ff4b",
   "metadata": {},
   "source": [
    "Imprimir as primeiras linhas do banco de dados."
   ]
  },
  {
   "cell_type": "code",
   "execution_count": 6,
   "id": "2a5821b2-2cc0-4b6e-80d1-3343d14f426a",
   "metadata": {},
   "outputs": [
    {
     "data": {
      "text/html": [
       "<div>\n",
       "<style scoped>\n",
       "    .dataframe tbody tr th:only-of-type {\n",
       "        vertical-align: middle;\n",
       "    }\n",
       "\n",
       "    .dataframe tbody tr th {\n",
       "        vertical-align: top;\n",
       "    }\n",
       "\n",
       "    .dataframe thead th {\n",
       "        text-align: right;\n",
       "    }\n",
       "</style>\n",
       "<table border=\"1\" class=\"dataframe\">\n",
       "  <thead>\n",
       "    <tr style=\"text-align: right;\">\n",
       "      <th></th>\n",
       "      <th>frequency</th>\n",
       "      <th>attack-angle</th>\n",
       "      <th>chord-length</th>\n",
       "      <th>free-stream-velocity</th>\n",
       "      <th>suction-side-displacement-thickness</th>\n",
       "    </tr>\n",
       "  </thead>\n",
       "  <tbody>\n",
       "    <tr>\n",
       "      <th>0</th>\n",
       "      <td>800</td>\n",
       "      <td>0.0</td>\n",
       "      <td>0.3048</td>\n",
       "      <td>71.3</td>\n",
       "      <td>0.002663</td>\n",
       "    </tr>\n",
       "    <tr>\n",
       "      <th>1</th>\n",
       "      <td>1000</td>\n",
       "      <td>0.0</td>\n",
       "      <td>0.3048</td>\n",
       "      <td>71.3</td>\n",
       "      <td>0.002663</td>\n",
       "    </tr>\n",
       "    <tr>\n",
       "      <th>2</th>\n",
       "      <td>1250</td>\n",
       "      <td>0.0</td>\n",
       "      <td>0.3048</td>\n",
       "      <td>71.3</td>\n",
       "      <td>0.002663</td>\n",
       "    </tr>\n",
       "    <tr>\n",
       "      <th>3</th>\n",
       "      <td>1600</td>\n",
       "      <td>0.0</td>\n",
       "      <td>0.3048</td>\n",
       "      <td>71.3</td>\n",
       "      <td>0.002663</td>\n",
       "    </tr>\n",
       "    <tr>\n",
       "      <th>4</th>\n",
       "      <td>2000</td>\n",
       "      <td>0.0</td>\n",
       "      <td>0.3048</td>\n",
       "      <td>71.3</td>\n",
       "      <td>0.002663</td>\n",
       "    </tr>\n",
       "  </tbody>\n",
       "</table>\n",
       "</div>"
      ],
      "text/plain": [
       "   frequency  attack-angle  chord-length  free-stream-velocity  \\\n",
       "0        800           0.0        0.3048                  71.3   \n",
       "1       1000           0.0        0.3048                  71.3   \n",
       "2       1250           0.0        0.3048                  71.3   \n",
       "3       1600           0.0        0.3048                  71.3   \n",
       "4       2000           0.0        0.3048                  71.3   \n",
       "\n",
       "   suction-side-displacement-thickness  \n",
       "0                             0.002663  \n",
       "1                             0.002663  \n",
       "2                             0.002663  \n",
       "3                             0.002663  \n",
       "4                             0.002663  "
      ]
     },
     "execution_count": 6,
     "metadata": {},
     "output_type": "execute_result"
    }
   ],
   "source": [
    "x.head()"
   ]
  },
  {
   "cell_type": "markdown",
   "id": "95206b75-a4da-4253-bd63-43b3376fbe1d",
   "metadata": {},
   "source": [
    "Dividir os dados em conjunto de treinamento e teste na proporção de 70/30."
   ]
  },
  {
   "cell_type": "code",
   "execution_count": 7,
   "id": "a80673b1-777c-4aac-954d-fb152a67a3b3",
   "metadata": {},
   "outputs": [],
   "source": [
    "x_train, x_test, y_train, y_test = train_test_split(x_numpy, y_numpy, test_size=0.3, random_state=42, shuffle=True)"
   ]
  },
  {
   "cell_type": "markdown",
   "id": "ae6b9bf8-92fb-47d3-a252-93864ea92418",
   "metadata": {},
   "source": [
    "Normalizar os dados usando min-max (na normalização min-max, os dados são dimensionados para um intervalo específico, geralmente entre 0 e 1)."
   ]
  },
  {
   "cell_type": "markdown",
   "id": "e8d7bd8b-83fd-4507-b615-1bbc00f09042",
   "metadata": {},
   "source": [
    "`fit_transform` é usado durante o treinamento do modelo para ajustar o transformador e transformar os dados de treinamento, enquanto `transform` é usado durante o teste para aplicar a mesma transformação aos dados de teste que foram aprendidos a partir dos dados de treinamento."
   ]
  },
  {
   "cell_type": "code",
   "execution_count": null,
   "id": "704e0945-6cba-4e82-a681-1b618d3681d9",
   "metadata": {},
   "outputs": [],
   "source": [
    "scaler = MinMaxScaler()\n",
    "\n",
    "x_train_normalized = scaler.fit_transform(x_train)\n",
    "x_test_normalized = scaler.transform(x_test)"
   ]
  },
  {
   "cell_type": "markdown",
   "id": "e95de807-6250-41c6-909d-e91eacadfdf1",
   "metadata": {},
   "source": [
    "Alternativamente é possível usar o scaler padrão."
   ]
  },
  {
   "cell_type": "markdown",
   "id": "bd444e6b-0206-413e-bba4-6ff0dabf60bf",
   "metadata": {},
   "source": [
    "Na padronização, os dados são transformados para ter média zero e desvio padrão um."
   ]
  },
  {
   "cell_type": "code",
   "execution_count": 8,
   "id": "28c4214d-a461-4bf3-b547-fbc7dac8d17c",
   "metadata": {},
   "outputs": [],
   "source": [
    "scaler = StandardScaler()\n",
    "\n",
    "x_train_normalized = scaler.fit_transform(x_train)\n",
    "x_test_normalized = scaler.transform(x_test)"
   ]
  },
  {
   "cell_type": "markdown",
   "id": "11cb8144-8c96-4288-81e2-d828bc2b015f",
   "metadata": {},
   "source": [
    "Construir a matriz A com uma coluna de 1s na frente."
   ]
  },
  {
   "cell_type": "code",
   "execution_count": 9,
   "id": "4435d178-27b3-479a-bf6d-aacc2539fb00",
   "metadata": {},
   "outputs": [
    {
     "data": {
      "text/plain": [
       "array([[ 1.        , -0.13997206,  1.8346947 , -1.20745781, -0.75162403,\n",
       "         0.4782222 ],\n",
       "       [ 1.        , -0.13997206,  0.00769339, -0.39458732,  1.28129287,\n",
       "        -0.47577913],\n",
       "       [ 1.        ,  0.31759321, -1.13631678, -0.39458732, -0.75162403,\n",
       "        -0.73039691],\n",
       "       ...,\n",
       "       [ 1.        , -0.71040343,  0.77605842, -0.93650098, -0.75162403,\n",
       "         0.31156351],\n",
       "       [ 1.        , -0.80649214,  0.96388099, -0.39458732, -1.25825001,\n",
       "         2.3693166 ],\n",
       "       [ 1.        ,  0.62263673,  1.0321801 , -1.20745781,  1.28129287,\n",
       "         0.09165811]])"
      ]
     },
     "execution_count": 9,
     "metadata": {},
     "output_type": "execute_result"
    }
   ],
   "source": [
    "x_train_with_bias = np.c_[np.ones((x_train_normalized.shape[0], 1)), x_train_normalized]\n",
    "x_train_with_bias"
   ]
  },
  {
   "cell_type": "code",
   "execution_count": 10,
   "id": "e9376c14-602f-4e44-b919-fc7017e0e204",
   "metadata": {},
   "outputs": [
    {
     "data": {
      "text/plain": [
       "array([[124.154],\n",
       "       [131.458],\n",
       "       [127.801],\n",
       "       ...,\n",
       "       [133.13 ],\n",
       "       [124.717],\n",
       "       [128.978]])"
      ]
     },
     "execution_count": 10,
     "metadata": {},
     "output_type": "execute_result"
    }
   ],
   "source": [
    "b_train = y_train.reshape(-1, 1)\n",
    "b_train"
   ]
  },
  {
   "cell_type": "markdown",
   "id": "cee52d91-fbf6-491c-a51d-ce29b096fe93",
   "metadata": {},
   "source": [
    "Verificar o posto máximo da matriz A."
   ]
  },
  {
   "cell_type": "markdown",
   "id": "ec6c8899-fe00-4db2-b79b-6d611bee7b89",
   "metadata": {},
   "source": [
    "O posto máximo de uma matriz é o maior número de linhas ou colunas linearmente independentes que podem ser escolhidas na matriz. "
   ]
  },
  {
   "cell_type": "code",
   "execution_count": 11,
   "id": "de936fee-737c-420a-94b7-3325baacb630",
   "metadata": {},
   "outputs": [
    {
     "data": {
      "text/plain": [
       "6"
      ]
     },
     "execution_count": 11,
     "metadata": {},
     "output_type": "execute_result"
    }
   ],
   "source": [
    "max_rank = np.linalg.matrix_rank(x_train_with_bias)\n",
    "max_rank"
   ]
  },
  {
   "cell_type": "markdown",
   "id": "7740f9dd-248c-47b7-bd90-b62f238e106a",
   "metadata": {},
   "source": [
    "Calcular decomposição QR e decomposição QR reduzida."
   ]
  },
  {
   "cell_type": "code",
   "execution_count": 12,
   "id": "3dfc4080-496d-4dc7-bb34-a1f7e13e4a23",
   "metadata": {},
   "outputs": [],
   "source": [
    "Q, R = qr(x_train_with_bias, mode='economic')\n",
    "\n",
    "coefficients = solve_triangular(R, np.dot(Q.T, b_train))"
   ]
  },
  {
   "cell_type": "markdown",
   "id": "88ecb731-fa8b-4300-9dcb-bf0bab271d84",
   "metadata": {},
   "source": [
    "Estimar variáveis dependentes."
   ]
  },
  {
   "cell_type": "code",
   "execution_count": 13,
   "id": "ba7142e3-d3b4-44c2-a563-c73aa12cf0a0",
   "metadata": {},
   "outputs": [
    {
     "data": {
      "text/plain": [
       "array([[124.06649005],\n",
       "       [119.46413909],\n",
       "       [120.33254103],\n",
       "       [129.60886761],\n",
       "       [129.78612472]])"
      ]
     },
     "execution_count": 13,
     "metadata": {},
     "output_type": "execute_result"
    }
   ],
   "source": [
    "x_test_with_bias = np.c_[np.ones((x_test_normalized.shape[0], 1)), x_test_normalized]\n",
    "\n",
    "y_pred = np.dot(x_test_with_bias, coefficients)\n",
    "y_pred[:5]"
   ]
  },
  {
   "cell_type": "markdown",
   "id": "687c25ce-d30d-499b-b31a-ce2256a77faf",
   "metadata": {},
   "source": [
    "Calcular a Raiz Quadrada do Erro Quadrático Médio (RMSE)."
   ]
  },
  {
   "cell_type": "markdown",
   "id": "7596afa1-c03c-48aa-8b5e-776512bac7cf",
   "metadata": {},
   "source": [
    "O RMSE mede a dispersão dos resíduos (diferenças entre os valores reais e os valores previstos) em relação à linha de melhor ajuste (ou seja, a reta que minimiza a soma dos quadrados dos resíduos). Quanto menor o valor do RMSE, melhor é o ajuste do modelo aos dados, indicando que o modelo é capaz de prever os valores reais com mais precisão."
   ]
  },
  {
   "cell_type": "code",
   "execution_count": 14,
   "id": "49dcd6db-05f8-4e81-81a3-ca65420e0e5f",
   "metadata": {},
   "outputs": [
    {
     "data": {
      "text/plain": [
       "4.8670173915886314"
      ]
     },
     "execution_count": 14,
     "metadata": {},
     "output_type": "execute_result"
    }
   ],
   "source": [
    "mse = mean_squared_error(y_test, y_pred)\n",
    "rmse = np.sqrt(mse)\n",
    "rmse"
   ]
  },
  {
   "cell_type": "markdown",
   "id": "9e281d48-37f7-4542-9265-5b1431655773",
   "metadata": {},
   "source": [
    "Desenhar gráfico Valores Reais x Valores Estimados."
   ]
  },
  {
   "cell_type": "code",
   "execution_count": 15,
   "id": "24061233-9bd0-4978-85d1-73689c7c7d72",
   "metadata": {},
   "outputs": [
    {
     "data": {
      "image/png": "[encoded data removed]",
      "text/plain": [
       "<Figure size 800x600 with 1 Axes>"
      ]
     },
     "metadata": {},
     "output_type": "display_data"
    }
   ],
   "source": [
    "plt.figure(figsize=(8, 6))\n",
    "plt.scatter(y_train, np.dot(x_train_with_bias, coefficients), color='blue', label='Treinamento')\n",
    "plt.scatter(y_test, y_pred, color='red', label='Teste')\n",
    "plt.plot(y_test, y_test, linestyle='--', color='black', label='Bissetriz do 1º Quadrante')\n",
    "plt.xlabel('Valores Reais')\n",
    "plt.ylabel('Valores Estimados')\n",
    "plt.title('Valores Reais vs. Valores Estimados')\n",
    "plt.legend()\n",
    "plt.grid(True)\n",
    "plt.show()"
   ]
  }
 ],
 "metadata": {
  "kernelspec": {
   "display_name": "Python 3 (ipykernel)",
   "language": "python",
   "name": "python3"
  },
  "language_info": {
   "codemirror_mode": {
    "name": "ipython",
    "version": 3
   },
   "file_extension": ".py",
   "mimetype": "text/x-python",
   "name": "python",
   "nbconvert_exporter": "python",
   "pygments_lexer": "ipython3",
   "version": "3.11.8"
  }
 },
 "nbformat": 4,
 "nbformat_minor": 5
}
